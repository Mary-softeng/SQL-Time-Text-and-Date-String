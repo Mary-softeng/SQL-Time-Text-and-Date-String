{
  "nbformat": 4,
  "nbformat_minor": 0,
  "metadata": {
    "colab": {
      "name": "SQL Programming - Text, Time and Date Strings",
      "provenance": [],
      "collapsed_sections": []
    },
    "kernelspec": {
      "name": "python3",
      "display_name": "Python 3"
    }
  },
  "cells": [
    {
      "cell_type": "markdown",
      "metadata": {
        "id": "OIIswKWoZEob"
      },
      "source": [
        "# 1. SQL Programming - Text, Time and Date Strings"
      ]
    },
    {
      "cell_type": "markdown",
      "metadata": {
        "id": "gns5TJfPZCCB"
      },
      "source": [
        "## 1.0 Connecting to our Database"
      ]
    },
    {
      "cell_type": "code",
      "metadata": {
        "id": "aR2xslaQWceL",
        "colab": {
          "base_uri": "https://localhost:8080/",
          "height": 36
        },
        "outputId": "cbd36035-3b95-45e3-efcc-2a729cfd235a"
      },
      "source": [
        "# We will first load the sql extension into our environment\n",
        "%load_ext sql\n",
        "\n",
        "# Then connect to our in memory sqlite database\n",
        "# NB: This database will cease to exist as soon as the database connection is closed. \n",
        "%sql sqlite://"
      ],
      "execution_count": null,
      "outputs": [
        {
          "output_type": "execute_result",
          "data": {
            "application/vnd.google.colaboratory.intrinsic+json": {
              "type": "string"
            },
            "text/plain": [
              "'Connected: @None'"
            ]
          },
          "metadata": {},
          "execution_count": 1
        }
      ]
    },
    {
      "cell_type": "markdown",
      "metadata": {
        "id": "RPsqmCbjcljo"
      },
      "source": [
        "Datasets used in this notebook:\n",
        "\n",
        "\n",
        "1.   **Main Lighting Energy Sources averaged to Districts in 2009**\n",
        "\n",
        "> ([Dataset Download Link](https://drive.google.com/a/moringaschool.com/file/d/1XyZwH35bo99OZIAGHH8LMN48stLwyG-b/view?usp=sharing))\n",
        "\n",
        "2.   **Kisumu County Energy and Mining Project Implementation Status** \n",
        "\n",
        "> ([Dataset Download Link](https://drive.google.com/a/moringaschool.com/file/d/1awhsX-tmd_RvM1PxPhhg21GTFuDn34ca/view?usp=sharing))\n",
        "\n",
        "3. **Population by District**\n",
        "\n",
        ">  ([Dataset Download Link](https://drive.google.com/a/moringaschool.com/file/d/1ZpbtJ-YAzfAtnQ4k-R_zpEbYRvP5lZhr/view?usp=sharing))\n",
        "\n",
        "4. **Visitors to Kenya between 1991 to 2014**\n",
        "\n",
        ">  ([Dataset Download Link](https://drive.google.com/a/moringaschool.com/file/d/1FJs1YU76tRyHEtHU6w62LYQlR8Jz_4d1/view?usp=sharing))\n",
        "\n",
        "5. **Boston Marathon Results 2016**\n",
        "\n",
        ">  ([Dataset Download Link](https://drive.google.com/a/moringaschool.com/file/d/1FKhXZemUZuwYSJydUDgukyqJt3ouvKGi/view?usp=sharing))\n",
        "\n",
        "6. **Kenyan Government Appointments**\n",
        "\n",
        ">  ([Dataset Download Link](https://drive.google.com/a/moringaschool.com/file/d/19m7bydCYOyH8qb68S-Jn-dAX0TrjSHKh/view?usp=sharing))\n",
        "\n",
        "7. **Tea Production**\n",
        "\n",
        ">  ([Dataset Download Link](https://drive.google.com/open?id=1Nf3SfkLuxK8oWX2m_RAOILLrpY7pFDaF))\n",
        "\n"
      ]
    },
    {
      "cell_type": "markdown",
      "metadata": {
        "id": "yLQD0MY2a-2H"
      },
      "source": [
        "## 1.1 Loading our Datasets"
      ]
    },
    {
      "cell_type": "code",
      "metadata": {
        "id": "hqLapdFXbfsp"
      },
      "source": [
        "# Importing Pandas\n",
        "import pandas as pd"
      ],
      "execution_count": null,
      "outputs": []
    },
    {
      "cell_type": "code",
      "metadata": {
        "id": "4eDIVhifGiZh"
      },
      "source": [
        "# Loading our lighting dataset  from the respective CSV file \n",
        "with open('lighting_dataset.csv','r') as f:\n",
        "    lighting_dataset = pd.read_csv(f, index_col=0, encoding='utf-8')\n",
        "%sql DROP TABLE if EXISTS lighting_dataset;\n",
        "%sql PERSIST lighting_dataset;\n",
        "%sql SELECT * FROM lighting_dataset LIMIT 5;"
      ],
      "execution_count": null,
      "outputs": []
    },
    {
      "cell_type": "code",
      "metadata": {
        "id": "O7g4-q_-d8N-",
        "colab": {
          "base_uri": "https://localhost:8080/",
          "height": 228
        },
        "outputId": "61216440-d922-49db-bf8e-c28dc3696de7"
      },
      "source": [
        "# Loading our energy mining dataset from the respective CSV file \n",
        "with open('energy_mining_dataset.csv','r') as f:\n",
        "    energy_mining_dataset = pd.read_csv(f, index_col=0, encoding='utf-8')\n",
        "%sql DROP TABLE if EXISTS energy_mining_dataset;\n",
        "%sql PERSIST energy_mining_dataset;\n",
        "%sql SELECT * FROM energy_mining_dataset LIMIT 5;"
      ],
      "execution_count": null,
      "outputs": [
        {
          "output_type": "stream",
          "name": "stdout",
          "text": [
            " * sqlite://\n",
            "Done.\n",
            " * sqlite://\n",
            " * sqlite://\n",
            "Done.\n"
          ]
        },
        {
          "output_type": "execute_result",
          "data": {
            "text/html": [
              "<table>\n",
              "    <thead>\n",
              "        <tr>\n",
              "            <th>COUNTY</th>\n",
              "            <th>WARD</th>\n",
              "            <th>ZONE</th>\n",
              "            <th>PROJECT_NAME</th>\n",
              "            <th>STATUS</th>\n",
              "            <th>DATE</th>\n",
              "            <th>OBJECTID</th>\n",
              "        </tr>\n",
              "    </thead>\n",
              "    <tbody>\n",
              "        <tr>\n",
              "            <td>Kisumu</td>\n",
              "            <td>West Kisumu</td>\n",
              "            <td>Huma market</td>\n",
              "            <td>Supply, installation &amp; commissioning of 8 No. 30m High mast flood lights </td>\n",
              "            <td>100 % Complete</td>\n",
              "            <td>May-31-2015</td>\n",
              "            <td>0</td>\n",
              "        </tr>\n",
              "        <tr>\n",
              "            <td>Kisumu</td>\n",
              "            <td>North west ksm</td>\n",
              "            <td>Daraja Mbili market</td>\n",
              "            <td>Supply, installation &amp; commissioning of 8 No. 30m High mast flood lights </td>\n",
              "            <td>100% Complete</td>\n",
              "            <td>May-31-2015</td>\n",
              "            <td>1</td>\n",
              "        </tr>\n",
              "        <tr>\n",
              "            <td>Kisumu</td>\n",
              "            <td>West Seme</td>\n",
              "            <td>Akado market </td>\n",
              "            <td>Supply, installation &amp; commissioning of 8 No. 30m High mast flood lights </td>\n",
              "            <td>100 % Complete</td>\n",
              "            <td>May-31-2015</td>\n",
              "            <td>2</td>\n",
              "        </tr>\n",
              "        <tr>\n",
              "            <td>Kisumu</td>\n",
              "            <td>Kobura</td>\n",
              "            <td>Korowe market </td>\n",
              "            <td>Supply, installation &amp; commissioning of 8 No. 30m High mast flood lights </td>\n",
              "            <td>100 % Complete</td>\n",
              "            <td>May-31-2015</td>\n",
              "            <td>3</td>\n",
              "        </tr>\n",
              "        <tr>\n",
              "            <td>Kisumu</td>\n",
              "            <td>Kobura</td>\n",
              "            <td>Rabour market </td>\n",
              "            <td>Supply, installation &amp; commissioning of 8 No. 30m High mast flood lights </td>\n",
              "            <td>100 % Complete</td>\n",
              "            <td>May-31-2015</td>\n",
              "            <td>4</td>\n",
              "        </tr>\n",
              "    </tbody>\n",
              "</table>"
            ],
            "text/plain": [
              "[('Kisumu', 'West Kisumu', 'Huma market', 'Supply, installation & commissioning of 8 No. 30m High mast flood lights ', '100 % Complete', 'May-31-2015', 0),\n",
              " ('Kisumu', 'North west ksm', 'Daraja Mbili market', 'Supply, installation & commissioning of 8 No. 30m High mast flood lights ', '100% Complete', 'May-31-2015', 1),\n",
              " ('Kisumu', 'West Seme', 'Akado market ', 'Supply, installation & commissioning of 8 No. 30m High mast flood lights ', '100 % Complete', 'May-31-2015', 2),\n",
              " ('Kisumu', 'Kobura', 'Korowe market ', 'Supply, installation & commissioning of 8 No. 30m High mast flood lights ', '100 % Complete', 'May-31-2015', 3),\n",
              " ('Kisumu', 'Kobura', 'Rabour market ', 'Supply, installation & commissioning of 8 No. 30m High mast flood lights ', '100 % Complete', 'May-31-2015', 4)]"
            ]
          },
          "metadata": {},
          "execution_count": 7
        }
      ]
    },
    {
      "cell_type": "code",
      "metadata": {
        "id": "4LxuTNcW2IgY"
      },
      "source": [
        "# Loading our population by districtdataset from the respective CSV file\n",
        "with open('population_by_district.csv','r') as f:\n",
        "    population_by_district = pd.read_csv(f, index_col=0, encoding='utf-8')\n",
        "%sql DROP TABLE if EXISTS population_by_district;\n",
        "%sql PERSIST population_by_district;\n",
        "%sql SELECT * FROM population_by_district LIMIT 5;"
      ],
      "execution_count": null,
      "outputs": []
    },
    {
      "cell_type": "code",
      "metadata": {
        "id": "A31Y9nJFGW1o",
        "colab": {
          "base_uri": "https://localhost:8080/",
          "height": 228
        },
        "outputId": "58e9aea8-51fd-480d-9926-fc3641482c98"
      },
      "source": [
        "# Loading our visitors to kenya dataset from the respective CSV file\n",
        "with open('visitors_to_kenya.csv','r') as f:\n",
        "    visitors_to_kenya = pd.read_csv(f, index_col=0, encoding='utf-8')\n",
        "%sql DROP TABLE if EXISTS visitors_to_kenya;\n",
        "%sql PERSIST visitors_to_kenya;\n",
        "%sql SELECT * FROM visitors_to_kenya LIMIT 5;"
      ],
      "execution_count": null,
      "outputs": [
        {
          "output_type": "stream",
          "name": "stdout",
          "text": [
            " * sqlite://\n",
            "Done.\n",
            " * sqlite://\n",
            " * sqlite://\n",
            "Done.\n"
          ]
        },
        {
          "output_type": "execute_result",
          "data": {
            "text/html": [
              "<table>\n",
              "    <thead>\n",
              "        <tr>\n",
              "            <th>Arrival_or_Departure</th>\n",
              "            <th>Date_End_of_Quater</th>\n",
              "            <th>Year_Text</th>\n",
              "            <th>No_of_Visitors_to_Kenya</th>\n",
              "            <th>Visitors_by_Purpose</th>\n",
              "            <th>Period_Quater</th>\n",
              "            <th>Results_Status</th>\n",
              "            <th>OBJECTID</th>\n",
              "        </tr>\n",
              "    </thead>\n",
              "    <tbody>\n",
              "        <tr>\n",
              "            <td>Arrivals</td>\n",
              "            <td>03/31/2005 12:00:00 AM</td>\n",
              "            <td>2005</td>\n",
              "            <td>264600</td>\n",
              "            <td>Visitors on Holiday</td>\n",
              "            <td>Q1</td>\n",
              "            <td>Actual</td>\n",
              "            <td>0</td>\n",
              "        </tr>\n",
              "        <tr>\n",
              "            <td>Arrivals</td>\n",
              "            <td>06/30/1991 12:00:00 AM</td>\n",
              "            <td>1991</td>\n",
              "            <td>149400</td>\n",
              "            <td>Visitors on Holiday</td>\n",
              "            <td>Q2</td>\n",
              "            <td>Actual</td>\n",
              "            <td>1</td>\n",
              "        </tr>\n",
              "        <tr>\n",
              "            <td>Arrivals</td>\n",
              "            <td>09/30/1991 12:00:00 AM</td>\n",
              "            <td>1991</td>\n",
              "            <td>215900</td>\n",
              "            <td>Visitors on Holiday</td>\n",
              "            <td>Q3</td>\n",
              "            <td>Actual</td>\n",
              "            <td>2</td>\n",
              "        </tr>\n",
              "        <tr>\n",
              "            <td>Arrivals</td>\n",
              "            <td>12/31/1991 12:00:00 AM</td>\n",
              "            <td>1991</td>\n",
              "            <td>158400</td>\n",
              "            <td>Visitors on Holiday</td>\n",
              "            <td>Q4</td>\n",
              "            <td>Actual</td>\n",
              "            <td>3</td>\n",
              "        </tr>\n",
              "        <tr>\n",
              "            <td>Arrivals</td>\n",
              "            <td>03/31/1992 12:00:00 AM</td>\n",
              "            <td>1992</td>\n",
              "            <td>155400</td>\n",
              "            <td>Visitors on Holiday</td>\n",
              "            <td>Q1</td>\n",
              "            <td>Actual</td>\n",
              "            <td>4</td>\n",
              "        </tr>\n",
              "    </tbody>\n",
              "</table>"
            ],
            "text/plain": [
              "[('Arrivals', '03/31/2005 12:00:00 AM', '2005', 264600, 'Visitors on Holiday', 'Q1', 'Actual', 0),\n",
              " ('Arrivals', '06/30/1991 12:00:00 AM', '1991', 149400, 'Visitors on Holiday', 'Q2', 'Actual', 1),\n",
              " ('Arrivals', '09/30/1991 12:00:00 AM', '1991', 215900, 'Visitors on Holiday', 'Q3', 'Actual', 2),\n",
              " ('Arrivals', '12/31/1991 12:00:00 AM', '1991', 158400, 'Visitors on Holiday', 'Q4', 'Actual', 3),\n",
              " ('Arrivals', '03/31/1992 12:00:00 AM', '1992', 155400, 'Visitors on Holiday', 'Q1', 'Actual', 4)]"
            ]
          },
          "metadata": {},
          "execution_count": 9
        }
      ]
    },
    {
      "cell_type": "code",
      "metadata": {
        "id": "oQlC_rF6vkAt",
        "colab": {
          "base_uri": "https://localhost:8080/",
          "height": 370
        },
        "outputId": "df50e794-0abf-4860-bc64-cee212971003"
      },
      "source": [
        "# Loading our marathon dataset from the respective CSV file\n",
        "#\n",
        "with open('marathon_results_2016.csv','r') as f:\n",
        "    marathon_results_2016 = pd.read_csv(f, index_col=0, encoding='utf-8')\n",
        "%sql DROP TABLE if EXISTS marathon_results_2016;\n",
        "%sql PERSIST marathon_results_2016;\n",
        "%sql SELECT * FROM marathon_results_2016 LIMIT 5;"
      ],
      "execution_count": null,
      "outputs": [
        {
          "output_type": "stream",
          "name": "stdout",
          "text": [
            " * sqlite://\n",
            "Done.\n",
            " * sqlite://\n",
            " * sqlite://\n",
            "Done.\n"
          ]
        },
        {
          "output_type": "execute_result",
          "data": {
            "text/html": [
              "<table>\n",
              "    <thead>\n",
              "        <tr>\n",
              "            <th>Bib</th>\n",
              "            <th>Name</th>\n",
              "            <th>Age</th>\n",
              "            <th>M/F</th>\n",
              "            <th>City</th>\n",
              "            <th>State</th>\n",
              "            <th>Country</th>\n",
              "            <th>Citizen</th>\n",
              "            <th>Unnamed: 8</th>\n",
              "            <th>5K</th>\n",
              "            <th>10K</th>\n",
              "            <th>15K</th>\n",
              "            <th>20K</th>\n",
              "            <th>Half</th>\n",
              "            <th>25K</th>\n",
              "            <th>30K</th>\n",
              "            <th>35K</th>\n",
              "            <th>40K</th>\n",
              "            <th>Pace</th>\n",
              "            <th>Proj Time</th>\n",
              "            <th>Official Time</th>\n",
              "            <th>Overall</th>\n",
              "            <th>Gender</th>\n",
              "            <th>Division</th>\n",
              "        </tr>\n",
              "    </thead>\n",
              "    <tbody>\n",
              "        <tr>\n",
              "            <td>5</td>\n",
              "            <td>Hayle, Lemi Berhanu</td>\n",
              "            <td>21</td>\n",
              "            <td>M</td>\n",
              "            <td>Addis Ababa</td>\n",
              "            <td>None</td>\n",
              "            <td>ETH</td>\n",
              "            <td>None</td>\n",
              "            <td>None</td>\n",
              "            <td>0:15:47</td>\n",
              "            <td>0:31:20</td>\n",
              "            <td>0:47:07</td>\n",
              "            <td>1:03:14</td>\n",
              "            <td>1:06:45</td>\n",
              "            <td>1:19:15</td>\n",
              "            <td>1:34:17</td>\n",
              "            <td>1:50:24</td>\n",
              "            <td>2:05:59</td>\n",
              "            <td>0:05:04</td>\n",
              "            <td>2:12:45</td>\n",
              "            <td>2:12:45</td>\n",
              "            <td>1</td>\n",
              "            <td>1</td>\n",
              "            <td>1</td>\n",
              "        </tr>\n",
              "        <tr>\n",
              "            <td>1</td>\n",
              "            <td>Desisa, Lelisa</td>\n",
              "            <td>26</td>\n",
              "            <td>M</td>\n",
              "            <td>Ambo</td>\n",
              "            <td>None</td>\n",
              "            <td>ETH</td>\n",
              "            <td>None</td>\n",
              "            <td>None</td>\n",
              "            <td>0:15:47</td>\n",
              "            <td>0:31:21</td>\n",
              "            <td>0:47:08</td>\n",
              "            <td>1:03:14</td>\n",
              "            <td>1:06:46</td>\n",
              "            <td>1:19:15</td>\n",
              "            <td>1:34:17</td>\n",
              "            <td>1:50:24</td>\n",
              "            <td>2:05:59</td>\n",
              "            <td>0:05:06</td>\n",
              "            <td>2:13:32</td>\n",
              "            <td>2:13:32</td>\n",
              "            <td>2</td>\n",
              "            <td>2</td>\n",
              "            <td>2</td>\n",
              "        </tr>\n",
              "        <tr>\n",
              "            <td>6</td>\n",
              "            <td>Tsegay, Yemane Adhane</td>\n",
              "            <td>31</td>\n",
              "            <td>M</td>\n",
              "            <td>Addis Ababa</td>\n",
              "            <td>None</td>\n",
              "            <td>ETH</td>\n",
              "            <td>None</td>\n",
              "            <td>None</td>\n",
              "            <td>0:15:46</td>\n",
              "            <td>0:31:20</td>\n",
              "            <td>0:47:07</td>\n",
              "            <td>1:03:13</td>\n",
              "            <td>1:06:44</td>\n",
              "            <td>1:19:15</td>\n",
              "            <td>1:34:45</td>\n",
              "            <td>1:50:48</td>\n",
              "            <td>2:06:47</td>\n",
              "            <td>0:05:07</td>\n",
              "            <td>2:14:02</td>\n",
              "            <td>2:14:02</td>\n",
              "            <td>3</td>\n",
              "            <td>3</td>\n",
              "            <td>3</td>\n",
              "        </tr>\n",
              "        <tr>\n",
              "            <td>11</td>\n",
              "            <td>Korir, Wesley</td>\n",
              "            <td>33</td>\n",
              "            <td>M</td>\n",
              "            <td>Kitale</td>\n",
              "            <td>None</td>\n",
              "            <td>KEN</td>\n",
              "            <td>None</td>\n",
              "            <td>None</td>\n",
              "            <td>0:15:46</td>\n",
              "            <td>0:31:21</td>\n",
              "            <td>0:47:07</td>\n",
              "            <td>1:03:14</td>\n",
              "            <td>1:06:46</td>\n",
              "            <td>1:19:16</td>\n",
              "            <td>1:34:45</td>\n",
              "            <td>1:50:48</td>\n",
              "            <td>2:06:47</td>\n",
              "            <td>0:05:07</td>\n",
              "            <td>2:14:05</td>\n",
              "            <td>2:14:05</td>\n",
              "            <td>4</td>\n",
              "            <td>4</td>\n",
              "            <td>4</td>\n",
              "        </tr>\n",
              "        <tr>\n",
              "            <td>14</td>\n",
              "            <td>Lonyangata, Paul</td>\n",
              "            <td>23</td>\n",
              "            <td>M</td>\n",
              "            <td>Eldoret</td>\n",
              "            <td>None</td>\n",
              "            <td>KEN</td>\n",
              "            <td>None</td>\n",
              "            <td>None</td>\n",
              "            <td>0:15:46</td>\n",
              "            <td>0:31:21</td>\n",
              "            <td>0:47:08</td>\n",
              "            <td>1:03:14</td>\n",
              "            <td>1:06:46</td>\n",
              "            <td>1:19:18</td>\n",
              "            <td>1:34:46</td>\n",
              "            <td>1:51:30</td>\n",
              "            <td>2:08:11</td>\n",
              "            <td>0:05:11</td>\n",
              "            <td>2:15:45</td>\n",
              "            <td>2:15:45</td>\n",
              "            <td>5</td>\n",
              "            <td>5</td>\n",
              "            <td>5</td>\n",
              "        </tr>\n",
              "    </tbody>\n",
              "</table>"
            ],
            "text/plain": [
              "[('5', 'Hayle, Lemi Berhanu', 21, 'M', 'Addis Ababa', None, 'ETH', None, None, '0:15:47', '0:31:20', '0:47:07', '1:03:14', '1:06:45', '1:19:15', '1:34:17', '1:50:24', '2:05:59', '0:05:04', '2:12:45', '2:12:45', 1, 1, 1),\n",
              " ('1', 'Desisa, Lelisa', 26, 'M', 'Ambo', None, 'ETH', None, None, '0:15:47', '0:31:21', '0:47:08', '1:03:14', '1:06:46', '1:19:15', '1:34:17', '1:50:24', '2:05:59', '0:05:06', '2:13:32', '2:13:32', 2, 2, 2),\n",
              " ('6', 'Tsegay, Yemane Adhane', 31, 'M', 'Addis Ababa', None, 'ETH', None, None, '0:15:46', '0:31:20', '0:47:07', '1:03:13', '1:06:44', '1:19:15', '1:34:45', '1:50:48', '2:06:47', '0:05:07', '2:14:02', '2:14:02', 3, 3, 3),\n",
              " ('11', 'Korir, Wesley', 33, 'M', 'Kitale', None, 'KEN', None, None, '0:15:46', '0:31:21', '0:47:07', '1:03:14', '1:06:46', '1:19:16', '1:34:45', '1:50:48', '2:06:47', '0:05:07', '2:14:05', '2:14:05', 4, 4, 4),\n",
              " ('14', 'Lonyangata, Paul', 23, 'M', 'Eldoret', None, 'KEN', None, None, '0:15:46', '0:31:21', '0:47:08', '1:03:14', '1:06:46', '1:19:18', '1:34:46', '1:51:30', '2:08:11', '0:05:11', '2:15:45', '2:15:45', 5, 5, 5)]"
            ]
          },
          "metadata": {},
          "execution_count": 10
        }
      ]
    },
    {
      "cell_type": "code",
      "metadata": {
        "id": "NGeUQqRMLQU7"
      },
      "source": [
        "# Loading our Kenyan government appointments dataset below\n",
        "#\n",
        "with open('government_appointments.csv','r') as f:\n",
        "    government_appointments = pd.read_csv(f, index_col=0, encoding='utf-8')\n",
        "%sql DROP TABLE if EXISTS government_appointments;\n",
        "%sql PERSIST government_appointments;\n",
        "%sql SELECT * FROM government_appointments LIMIT 5;"
      ],
      "execution_count": null,
      "outputs": []
    },
    {
      "cell_type": "code",
      "metadata": {
        "id": "OdYR80CuMbFD",
        "colab": {
          "base_uri": "https://localhost:8080/",
          "height": 228
        },
        "outputId": "7a3e9ca2-14e3-4a3e-ac42-c88c3f9148d6"
      },
      "source": [
        "# Loading our Tea dataset below\n",
        "#\n",
        "with open('tea_production.csv','r') as f:\n",
        "    tea_production = pd.read_csv(f, index_col=0, encoding='utf-8')\n",
        "%sql DROP TABLE if EXISTS tea_production;\n",
        "%sql PERSIST tea_production;\n",
        "%sql SELECT * FROM tea_production LIMIT 5;"
      ],
      "execution_count": null,
      "outputs": [
        {
          "output_type": "stream",
          "name": "stdout",
          "text": [
            " * sqlite://\n",
            "Done.\n",
            " * sqlite://\n",
            " * sqlite://\n",
            "Done.\n"
          ]
        },
        {
          "output_type": "execute_result",
          "data": {
            "text/html": [
              "<table>\n",
              "    <thead>\n",
              "        <tr>\n",
              "            <th>Activity_in_Tea_Sector</th>\n",
              "            <th>Millions_in_KGS_</th>\n",
              "            <th>Date</th>\n",
              "            <th>OBJECTID</th>\n",
              "        </tr>\n",
              "    </thead>\n",
              "    <tbody>\n",
              "        <tr>\n",
              "            <td>Production</td>\n",
              "            <td>32.8</td>\n",
              "            <td>01/25/2003 12:00:00 AM</td>\n",
              "            <td>0</td>\n",
              "        </tr>\n",
              "        <tr>\n",
              "            <td>Production</td>\n",
              "            <td>23.6</td>\n",
              "            <td>02/25/2003 12:00:00 AM</td>\n",
              "            <td>1</td>\n",
              "        </tr>\n",
              "        <tr>\n",
              "            <td>Production</td>\n",
              "            <td>15.0</td>\n",
              "            <td>03/25/2003 12:00:00 AM</td>\n",
              "            <td>2</td>\n",
              "        </tr>\n",
              "        <tr>\n",
              "            <td>Production</td>\n",
              "            <td>19.3</td>\n",
              "            <td>04/25/2003 12:00:00 AM</td>\n",
              "            <td>3</td>\n",
              "        </tr>\n",
              "        <tr>\n",
              "            <td>Production</td>\n",
              "            <td>26.0</td>\n",
              "            <td>05/25/2003 12:00:00 AM</td>\n",
              "            <td>4</td>\n",
              "        </tr>\n",
              "    </tbody>\n",
              "</table>"
            ],
            "text/plain": [
              "[('Production', 32.8, '01/25/2003 12:00:00 AM', 0),\n",
              " ('Production', 23.6, '02/25/2003 12:00:00 AM', 1),\n",
              " ('Production', 15.0, '03/25/2003 12:00:00 AM', 2),\n",
              " ('Production', 19.3, '04/25/2003 12:00:00 AM', 3),\n",
              " ('Production', 26.0, '05/25/2003 12:00:00 AM', 4)]"
            ]
          },
          "metadata": {},
          "execution_count": 12
        }
      ]
    },
    {
      "cell_type": "markdown",
      "metadata": {
        "id": "hZMiwaprbFRD"
      },
      "source": [
        "## 1.2 Text Strings"
      ]
    },
    {
      "cell_type": "code",
      "metadata": {
        "id": "_u1m-FQnbh7H",
        "colab": {
          "base_uri": "https://localhost:8080/",
          "height": 176
        },
        "outputId": "4fbaac9b-00ac-413c-9f56-d6e633664922"
      },
      "source": [
        "# Example 1\n",
        "# Using the EnergyMining dataset, we can concatenate (combine) \n",
        "# the Ward and County columns (i.e attributes)\n",
        "# into a new column Region. Then only select 5 of those regions\n",
        "#\n",
        "%%sql  \n",
        "SELECT *, WARD || ', ' || COUNTY AS Region\n",
        "FROM energy_mining_dataset LIMIT 5;"
      ],
      "execution_count": null,
      "outputs": [
        {
          "output_type": "stream",
          "name": "stdout",
          "text": [
            " * sqlite://\n",
            "Done.\n"
          ]
        },
        {
          "output_type": "execute_result",
          "data": {
            "text/html": [
              "<table>\n",
              "    <thead>\n",
              "        <tr>\n",
              "            <th>COUNTY</th>\n",
              "            <th>WARD</th>\n",
              "            <th>ZONE</th>\n",
              "            <th>PROJECT_NAME</th>\n",
              "            <th>STATUS</th>\n",
              "            <th>DATE</th>\n",
              "            <th>OBJECTID</th>\n",
              "            <th>Region</th>\n",
              "        </tr>\n",
              "    </thead>\n",
              "    <tbody>\n",
              "        <tr>\n",
              "            <td>Kisumu</td>\n",
              "            <td>West Kisumu</td>\n",
              "            <td>Huma market</td>\n",
              "            <td>Supply, installation &amp; commissioning of 8 No. 30m High mast flood lights </td>\n",
              "            <td>100 % Complete</td>\n",
              "            <td>May-31-2015</td>\n",
              "            <td>0</td>\n",
              "            <td>West Kisumu, Kisumu</td>\n",
              "        </tr>\n",
              "        <tr>\n",
              "            <td>Kisumu</td>\n",
              "            <td>North west ksm</td>\n",
              "            <td>Daraja Mbili market</td>\n",
              "            <td>Supply, installation &amp; commissioning of 8 No. 30m High mast flood lights </td>\n",
              "            <td>100% Complete</td>\n",
              "            <td>May-31-2015</td>\n",
              "            <td>1</td>\n",
              "            <td>North west ksm, Kisumu</td>\n",
              "        </tr>\n",
              "        <tr>\n",
              "            <td>Kisumu</td>\n",
              "            <td>West Seme</td>\n",
              "            <td>Akado market </td>\n",
              "            <td>Supply, installation &amp; commissioning of 8 No. 30m High mast flood lights </td>\n",
              "            <td>100 % Complete</td>\n",
              "            <td>May-31-2015</td>\n",
              "            <td>2</td>\n",
              "            <td>West Seme, Kisumu</td>\n",
              "        </tr>\n",
              "        <tr>\n",
              "            <td>Kisumu</td>\n",
              "            <td>Kobura</td>\n",
              "            <td>Korowe market </td>\n",
              "            <td>Supply, installation &amp; commissioning of 8 No. 30m High mast flood lights </td>\n",
              "            <td>100 % Complete</td>\n",
              "            <td>May-31-2015</td>\n",
              "            <td>3</td>\n",
              "            <td>Kobura, Kisumu</td>\n",
              "        </tr>\n",
              "        <tr>\n",
              "            <td>Kisumu</td>\n",
              "            <td>Kobura</td>\n",
              "            <td>Rabour market </td>\n",
              "            <td>Supply, installation &amp; commissioning of 8 No. 30m High mast flood lights </td>\n",
              "            <td>100 % Complete</td>\n",
              "            <td>May-31-2015</td>\n",
              "            <td>4</td>\n",
              "            <td>Kobura, Kisumu</td>\n",
              "        </tr>\n",
              "    </tbody>\n",
              "</table>"
            ],
            "text/plain": [
              "[('Kisumu', 'West Kisumu', 'Huma market', 'Supply, installation & commissioning of 8 No. 30m High mast flood lights ', '100 % Complete', 'May-31-2015', 0, 'West Kisumu, Kisumu'),\n",
              " ('Kisumu', 'North west ksm', 'Daraja Mbili market', 'Supply, installation & commissioning of 8 No. 30m High mast flood lights ', '100% Complete', 'May-31-2015', 1, 'North west ksm, Kisumu'),\n",
              " ('Kisumu', 'West Seme', 'Akado market ', 'Supply, installation & commissioning of 8 No. 30m High mast flood lights ', '100 % Complete', 'May-31-2015', 2, 'West Seme, Kisumu'),\n",
              " ('Kisumu', 'Kobura', 'Korowe market ', 'Supply, installation & commissioning of 8 No. 30m High mast flood lights ', '100 % Complete', 'May-31-2015', 3, 'Kobura, Kisumu'),\n",
              " ('Kisumu', 'Kobura', 'Rabour market ', 'Supply, installation & commissioning of 8 No. 30m High mast flood lights ', '100 % Complete', 'May-31-2015', 4, 'Kobura, Kisumu')]"
            ]
          },
          "metadata": {},
          "execution_count": 14
        }
      ]
    },
    {
      "cell_type": "code",
      "metadata": {
        "id": "Rk7JTCrZbhyD",
        "colab": {
          "base_uri": "https://localhost:8080/",
          "height": 176
        },
        "outputId": "0b86d337-9b7a-4035-bba0-80e3e08fee74"
      },
      "source": [
        "# Example 2\n",
        "# Using the main lighting dataset, we can also replace the null cells with 0\n",
        "# as shown below\n",
        "# \n",
        "%%sql \n",
        "SELECT PROJECT_NAME, REPLACE(\"STATUS\", '100 % Complete', '100%') AS \"Project Status\" \n",
        "FROM energy_mining_dataset LIMIT 5;\n"
      ],
      "execution_count": null,
      "outputs": [
        {
          "output_type": "stream",
          "name": "stdout",
          "text": [
            " * sqlite://\n",
            "Done.\n"
          ]
        },
        {
          "output_type": "execute_result",
          "data": {
            "text/html": [
              "<table>\n",
              "    <thead>\n",
              "        <tr>\n",
              "            <th>PROJECT_NAME</th>\n",
              "            <th>Project Status</th>\n",
              "        </tr>\n",
              "    </thead>\n",
              "    <tbody>\n",
              "        <tr>\n",
              "            <td>Supply, installation &amp; commissioning of 8 No. 30m High mast flood lights </td>\n",
              "            <td>100%</td>\n",
              "        </tr>\n",
              "        <tr>\n",
              "            <td>Supply, installation &amp; commissioning of 8 No. 30m High mast flood lights </td>\n",
              "            <td>100% Complete</td>\n",
              "        </tr>\n",
              "        <tr>\n",
              "            <td>Supply, installation &amp; commissioning of 8 No. 30m High mast flood lights </td>\n",
              "            <td>100%</td>\n",
              "        </tr>\n",
              "        <tr>\n",
              "            <td>Supply, installation &amp; commissioning of 8 No. 30m High mast flood lights </td>\n",
              "            <td>100%</td>\n",
              "        </tr>\n",
              "        <tr>\n",
              "            <td>Supply, installation &amp; commissioning of 8 No. 30m High mast flood lights </td>\n",
              "            <td>100%</td>\n",
              "        </tr>\n",
              "    </tbody>\n",
              "</table>"
            ],
            "text/plain": [
              "[('Supply, installation & commissioning of 8 No. 30m High mast flood lights ', '100%'),\n",
              " ('Supply, installation & commissioning of 8 No. 30m High mast flood lights ', '100% Complete'),\n",
              " ('Supply, installation & commissioning of 8 No. 30m High mast flood lights ', '100%'),\n",
              " ('Supply, installation & commissioning of 8 No. 30m High mast flood lights ', '100%'),\n",
              " ('Supply, installation & commissioning of 8 No. 30m High mast flood lights ', '100%')]"
            ]
          },
          "metadata": {},
          "execution_count": 16
        }
      ]
    },
    {
      "cell_type": "code",
      "metadata": {
        "id": "mDr4BRmWbhpQ"
      },
      "source": [
        "# Example 3\n",
        "# Using the Population by District dataset, we change values of County column to lowercase \n",
        "# as shown below\n",
        "#\n",
        "%%sql\n",
        "SELECT *, LOWER(County) AS \"County Name\"\n",
        "FROM population_by_district LIMIT 5;"
      ],
      "execution_count": null,
      "outputs": []
    },
    {
      "cell_type": "markdown",
      "metadata": {
        "id": "TUnOLEFCbk0o"
      },
      "source": [
        "### <font color=\"green\">1.2 Challenges</font>"
      ]
    },
    {
      "cell_type": "code",
      "metadata": {
        "id": "DInKcbjQb9lv"
      },
      "source": [
        "# Challenge 1\n",
        "# Using the Governments appointments dataset, \n",
        "# in gender field, let's replace m = 1 and f = 0\n",
        "# \n",
        "%%sql \n",
        "SELECT Persons_Appointed_\t, REPLACE(\"\tGender\", 'm', 'f') AS '1', '0' \n",
        "FROM government_appointments ;"
      ],
      "execution_count": null,
      "outputs": []
    },
    {
      "cell_type": "code",
      "metadata": {
        "id": "oUwumQgkb-zE"
      },
      "source": [
        "# Challenge 2\n",
        "# Using the Governments appointments dataset, \n",
        "# Let's merge the person appointing field with the appointers position field\n",
        "#\n",
        "%%sql  \n",
        "SELECT *, Person_Appointing_\t || ', ' || Apointers_Position AS Position\n",
        "FROM government_appointments LIMIT 5;"
      ],
      "execution_count": null,
      "outputs": []
    },
    {
      "cell_type": "code",
      "metadata": {
        "id": "Dmotlbe8b_xE"
      },
      "source": [
        "# Challenge 3\n",
        "# Using the Population by District dataset, \n",
        "# let's change the values of the District column to lowercase \n",
        "# and display these values in a new column \n",
        "# \n",
        "%%sql\n",
        "SELECT *, LOWER(District) AS \"District Name\"\n",
        "FROM population_by_district ;"
      ],
      "execution_count": null,
      "outputs": []
    },
    {
      "cell_type": "markdown",
      "metadata": {
        "id": "dyTun0GIbK67"
      },
      "source": [
        "## 1.3 Time Strings"
      ]
    },
    {
      "cell_type": "code",
      "metadata": {
        "id": "v45ZeTF8cFXq"
      },
      "source": [
        "# Example 1\n",
        "# You can work with time data just like any other kind of data type \n",
        "# when it is in the time format; HH:MM:SS\n",
        "# Let's answer some questions to see how this works\n",
        "# Question: Which athletes took time between 15.30 and 15.59 to pass the 5K mark?\n",
        "# NB: We order the results\n",
        "#\n",
        "%%sql \n",
        "SELECT Name, \"5K\" FROM marathon_results_2016 \n",
        "WHERE \"5K\" > '0:15:30' and \"5K\" < '0:15:59' ORDER BY \"5K\" ASC;"
      ],
      "execution_count": null,
      "outputs": []
    },
    {
      "cell_type": "code",
      "metadata": {
        "id": "M08B6GRcxuuo",
        "colab": {
          "base_uri": "https://localhost:8080/",
          "height": 93
        },
        "outputId": "4adcdd0a-4726-4bb8-b560-365b5146a82d"
      },
      "source": [
        "# Example 2\n",
        "# Finding the minimum amount of time taken to cover 15K by an athlete during the marathon. \n",
        "# Hint: We use a where clause to ignore null/blank values - we will learn how to \n",
        "# deal with such values later in the course\n",
        "# \n",
        "%%sql\n",
        "SELECT MIN(\"5K\") \n",
        "FROM marathon_results_2016 \n",
        "WHERE \"5K\" > 0;"
      ],
      "execution_count": null,
      "outputs": [
        {
          "output_type": "stream",
          "name": "stdout",
          "text": [
            " * sqlite://\n",
            "Done.\n"
          ]
        },
        {
          "output_type": "execute_result",
          "data": {
            "text/html": [
              "<table>\n",
              "    <thead>\n",
              "        <tr>\n",
              "            <th>MIN(&quot;5K&quot;)</th>\n",
              "        </tr>\n",
              "    </thead>\n",
              "    <tbody>\n",
              "        <tr>\n",
              "            <td>0:15:46</td>\n",
              "        </tr>\n",
              "    </tbody>\n",
              "</table>"
            ],
            "text/plain": [
              "[('0:15:46',)]"
            ]
          },
          "metadata": {},
          "execution_count": 31
        }
      ]
    },
    {
      "cell_type": "code",
      "metadata": {
        "id": "lWtS8KupcHhr",
        "colab": {
          "base_uri": "https://localhost:8080/",
          "height": 93
        },
        "outputId": "71e04c57-e305-471a-b4e7-245a9a2bcb3b"
      },
      "source": [
        "# Example 3\n",
        "# What was the average time covered by all athletes past the 10K mark?\n",
        "# \n",
        "%%sql\n",
        "SELECT time(AVG(\"10K\")) \n",
        "FROM marathon_results_2016 \n",
        "WHERE \"10K\" > 0;"
      ],
      "execution_count": null,
      "outputs": [
        {
          "output_type": "stream",
          "name": "stdout",
          "text": [
            " * sqlite://\n",
            "Done.\n"
          ]
        },
        {
          "output_type": "execute_result",
          "data": {
            "text/html": [
              "<table>\n",
              "    <thead>\n",
              "        <tr>\n",
              "            <th>time(AVG(&quot;10K&quot;))</th>\n",
              "        </tr>\n",
              "    </thead>\n",
              "    <tbody>\n",
              "        <tr>\n",
              "            <td>15:06:58</td>\n",
              "        </tr>\n",
              "    </tbody>\n",
              "</table>"
            ],
            "text/plain": [
              "[('15:06:58',)]"
            ]
          },
          "metadata": {},
          "execution_count": 33
        }
      ]
    },
    {
      "cell_type": "markdown",
      "metadata": {
        "id": "pS4CWYNGcJZw"
      },
      "source": [
        "### <font color=\"green\">1.3 Challenges</font>"
      ]
    },
    {
      "cell_type": "code",
      "metadata": {
        "id": "-1a8zfZFcCHg",
        "colab": {
          "base_uri": "https://localhost:8080/",
          "height": 280
        },
        "outputId": "403621d2-a35c-4464-af86-d55de7801cea"
      },
      "source": [
        "# Challenge 1\n",
        "# What were the names and time of the athletes who finished the marathon before 2hrs 15min official time?\n",
        "# NB: Order your names by time in ascending order\n",
        "# \n",
        "%%sql\n",
        "SELECT Name FROM marathon_results_2016\n",
        "WHERE \"Official Time\" > '02:15:00'\n",
        "ORDER By  Name ASC LIMIT 10;"
      ],
      "execution_count": null,
      "outputs": [
        {
          "output_type": "stream",
          "name": "stdout",
          "text": [
            " * sqlite://\n",
            "Done.\n"
          ]
        },
        {
          "output_type": "execute_result",
          "data": {
            "text/html": [
              "<table>\n",
              "    <thead>\n",
              "        <tr>\n",
              "            <th>Name</th>\n",
              "        </tr>\n",
              "    </thead>\n",
              "    <tbody>\n",
              "        <tr>\n",
              "            <td>Aarna, Indrek</td>\n",
              "        </tr>\n",
              "        <tr>\n",
              "            <td>Aaron, Kiera M.</td>\n",
              "        </tr>\n",
              "        <tr>\n",
              "            <td>Aarons, Sarah</td>\n",
              "        </tr>\n",
              "        <tr>\n",
              "            <td>Abaibourova, Lilia</td>\n",
              "        </tr>\n",
              "        <tr>\n",
              "            <td>Abanero, Jennifer</td>\n",
              "        </tr>\n",
              "        <tr>\n",
              "            <td>Abanses, Jolene C</td>\n",
              "        </tr>\n",
              "        <tr>\n",
              "            <td>Abarbanel, Carly</td>\n",
              "        </tr>\n",
              "        <tr>\n",
              "            <td>Abazeed, Ghyath</td>\n",
              "        </tr>\n",
              "        <tr>\n",
              "            <td>Abbattisti, Carol</td>\n",
              "        </tr>\n",
              "        <tr>\n",
              "            <td>Abber, Tracy</td>\n",
              "        </tr>\n",
              "    </tbody>\n",
              "</table>"
            ],
            "text/plain": [
              "[('Aarna, Indrek',),\n",
              " ('Aaron, Kiera M.',),\n",
              " ('Aarons, Sarah',),\n",
              " ('Abaibourova, Lilia',),\n",
              " ('Abanero, Jennifer',),\n",
              " ('Abanses, Jolene C',),\n",
              " ('Abarbanel, Carly',),\n",
              " ('Abazeed, Ghyath',),\n",
              " ('Abbattisti, Carol',),\n",
              " ('Abber, Tracy',)]"
            ]
          },
          "metadata": {},
          "execution_count": 48
        }
      ]
    },
    {
      "cell_type": "code",
      "metadata": {
        "id": "0SaAJYQ1cDTo"
      },
      "source": [
        "# Challenge 2\n",
        "# Which countries came top 3 in completing the marathon before 2hrs 15min?\n"
      ],
      "execution_count": null,
      "outputs": []
    },
    {
      "cell_type": "code",
      "metadata": {
        "id": "6t6YOOZXcEac",
        "colab": {
          "base_uri": "https://localhost:8080/",
          "height": 135
        },
        "outputId": "a6f2a9c6-4727-416e-fecf-39dd91677779"
      },
      "source": [
        "# Challenge 3\n",
        "# How many athletes ran 30K under 1hr 34min? Name these athletes.\n",
        "# \n",
        "%%sql\n",
        "SELECT\tCountry FROM marathon_results_2016\n",
        "WHERE \"Official Time\" > '02:15:00'\n",
        "ORDER By  Country DESC LIMIT 3;"
      ],
      "execution_count": null,
      "outputs": [
        {
          "output_type": "stream",
          "name": "stdout",
          "text": [
            " * sqlite://\n",
            "Done.\n"
          ]
        },
        {
          "output_type": "execute_result",
          "data": {
            "text/html": [
              "<table>\n",
              "    <thead>\n",
              "        <tr>\n",
              "            <th>Country</th>\n",
              "        </tr>\n",
              "    </thead>\n",
              "    <tbody>\n",
              "        <tr>\n",
              "            <td>ZIM</td>\n",
              "        </tr>\n",
              "        <tr>\n",
              "            <td>VIE</td>\n",
              "        </tr>\n",
              "        <tr>\n",
              "            <td>VGB</td>\n",
              "        </tr>\n",
              "    </tbody>\n",
              "</table>"
            ],
            "text/plain": [
              "[('ZIM',), ('VIE',), ('VGB',)]"
            ]
          },
          "metadata": {},
          "execution_count": 45
        }
      ]
    },
    {
      "cell_type": "markdown",
      "metadata": {
        "id": "JkZaAjv-bSPO"
      },
      "source": [
        "## 1.4 Date Strings"
      ]
    },
    {
      "cell_type": "code",
      "metadata": {
        "id": "Tne2OvPScRy8",
        "colab": {
          "base_uri": "https://localhost:8080/",
          "height": 176
        },
        "outputId": "e6e83add-f33d-4ad8-df63-d3337ddf3c99"
      },
      "source": [
        "# Example 1\n",
        "# At times we would like to work with the data that is stored in the form of dates\n",
        "# However, this kind of data can be really difficult to work with if it is not stored\n",
        "# in datetime Data Type i.e. YYYY-MM-DD HH:MM:SS. It can even be misleading while \n",
        "# performing operations to our data. \n",
        "# Thus, when we get a dataset such as the one previewed below we will note that the datetime data \n",
        "# within the \"Date_End_of_Quater\" column is not in the datetime Data Type. \n",
        "# We will need to fix this;\n",
        "# \n",
        "%sql SELECT * FROM visitors_to_kenya LIMIT 5;"
      ],
      "execution_count": null,
      "outputs": [
        {
          "output_type": "stream",
          "name": "stdout",
          "text": [
            " * sqlite://\n",
            "Done.\n"
          ]
        },
        {
          "output_type": "execute_result",
          "data": {
            "text/html": [
              "<table>\n",
              "    <thead>\n",
              "        <tr>\n",
              "            <th>Arrival_or_Departure</th>\n",
              "            <th>Date_End_of_Quater</th>\n",
              "            <th>Year_Text</th>\n",
              "            <th>No_of_Visitors_to_Kenya</th>\n",
              "            <th>Visitors_by_Purpose</th>\n",
              "            <th>Period_Quater</th>\n",
              "            <th>Results_Status</th>\n",
              "            <th>OBJECTID</th>\n",
              "        </tr>\n",
              "    </thead>\n",
              "    <tbody>\n",
              "        <tr>\n",
              "            <td>Arrivals</td>\n",
              "            <td>03/31/2005 12:00:00 AM</td>\n",
              "            <td>2005</td>\n",
              "            <td>264600</td>\n",
              "            <td>Visitors on Holiday</td>\n",
              "            <td>Q1</td>\n",
              "            <td>Actual</td>\n",
              "            <td>0</td>\n",
              "        </tr>\n",
              "        <tr>\n",
              "            <td>Arrivals</td>\n",
              "            <td>06/30/1991 12:00:00 AM</td>\n",
              "            <td>1991</td>\n",
              "            <td>149400</td>\n",
              "            <td>Visitors on Holiday</td>\n",
              "            <td>Q2</td>\n",
              "            <td>Actual</td>\n",
              "            <td>1</td>\n",
              "        </tr>\n",
              "        <tr>\n",
              "            <td>Arrivals</td>\n",
              "            <td>09/30/1991 12:00:00 AM</td>\n",
              "            <td>1991</td>\n",
              "            <td>215900</td>\n",
              "            <td>Visitors on Holiday</td>\n",
              "            <td>Q3</td>\n",
              "            <td>Actual</td>\n",
              "            <td>2</td>\n",
              "        </tr>\n",
              "        <tr>\n",
              "            <td>Arrivals</td>\n",
              "            <td>12/31/1991 12:00:00 AM</td>\n",
              "            <td>1991</td>\n",
              "            <td>158400</td>\n",
              "            <td>Visitors on Holiday</td>\n",
              "            <td>Q4</td>\n",
              "            <td>Actual</td>\n",
              "            <td>3</td>\n",
              "        </tr>\n",
              "        <tr>\n",
              "            <td>Arrivals</td>\n",
              "            <td>03/31/1992 12:00:00 AM</td>\n",
              "            <td>1992</td>\n",
              "            <td>155400</td>\n",
              "            <td>Visitors on Holiday</td>\n",
              "            <td>Q1</td>\n",
              "            <td>Actual</td>\n",
              "            <td>4</td>\n",
              "        </tr>\n",
              "    </tbody>\n",
              "</table>"
            ],
            "text/plain": [
              "[('Arrivals', '03/31/2005 12:00:00 AM', '2005', 264600, 'Visitors on Holiday', 'Q1', 'Actual', 0),\n",
              " ('Arrivals', '06/30/1991 12:00:00 AM', '1991', 149400, 'Visitors on Holiday', 'Q2', 'Actual', 1),\n",
              " ('Arrivals', '09/30/1991 12:00:00 AM', '1991', 215900, 'Visitors on Holiday', 'Q3', 'Actual', 2),\n",
              " ('Arrivals', '12/31/1991 12:00:00 AM', '1991', 158400, 'Visitors on Holiday', 'Q4', 'Actual', 3),\n",
              " ('Arrivals', '03/31/1992 12:00:00 AM', '1992', 155400, 'Visitors on Holiday', 'Q1', 'Actual', 4)]"
            ]
          },
          "metadata": {},
          "execution_count": 50
        }
      ]
    },
    {
      "cell_type": "code",
      "metadata": {
        "id": "ayyBRzHXPrI7",
        "colab": {
          "base_uri": "https://localhost:8080/",
          "height": 93
        },
        "outputId": "777fecf9-3248-43e7-dff0-886dfac05ace"
      },
      "source": [
        "# Example 2\n",
        "# In order to convert this kind of data to this format YYYY-MM-DD HH:MM:SS, \n",
        "# we would need to use the substring function. \n",
        "# An example of how the SQL substring function works is as shown in the SQL command\n",
        "# in this cell;\n",
        "# NB: Run this cell several times as you make changes to the numerial parameters 1, 6 \n",
        "# and then observe the output after running this cell\n",
        "#\n",
        "%%sql\n",
        "SELECT substr('SQL Tutorial', 1, 6) AS ExtractString;"
      ],
      "execution_count": null,
      "outputs": [
        {
          "output_type": "stream",
          "name": "stdout",
          "text": [
            " * sqlite://\n",
            "Done.\n"
          ]
        },
        {
          "output_type": "execute_result",
          "data": {
            "text/html": [
              "<table>\n",
              "    <thead>\n",
              "        <tr>\n",
              "            <th>ExtractString</th>\n",
              "        </tr>\n",
              "    </thead>\n",
              "    <tbody>\n",
              "        <tr>\n",
              "            <td>SQL Tu</td>\n",
              "        </tr>\n",
              "    </tbody>\n",
              "</table>"
            ],
            "text/plain": [
              "[('SQL Tu',)]"
            ]
          },
          "metadata": {},
          "execution_count": 51
        }
      ]
    },
    {
      "cell_type": "code",
      "metadata": {
        "id": "IVS-kshycRqd",
        "colab": {
          "base_uri": "https://localhost:8080/",
          "height": 176
        },
        "outputId": "5f777889-f16b-472b-c601-3fb0cadb21b0"
      },
      "source": [
        "# Example 3\n",
        "# Let's now select the \"Date_End_of_Quater\" data in the datetime data type format.\n",
        "# We will apply the SQL substr function to the respective column\n",
        "# then select the characters specifying our range then concatenating (combining)\n",
        "# the selected substrings.\n",
        "#  \n",
        "%%sql\n",
        "SELECT substr(\"Date_End_of_Quater\", 7, 4) \n",
        "|| \"-\" || substr(\"Date_End_of_Quater\", 4, 2) \n",
        "|| \"-\" || substr(\"Date_End_of_Quater\", 1, 2) \n",
        "|| \" \" || substr(\"Date_End_of_Quater\", 12,9)\n",
        "AS New_Date_End_of_Quarter\n",
        "FROM visitors_to_kenya Limit 5;"
      ],
      "execution_count": null,
      "outputs": [
        {
          "output_type": "stream",
          "name": "stdout",
          "text": [
            " * sqlite://\n",
            "Done.\n"
          ]
        },
        {
          "output_type": "execute_result",
          "data": {
            "text/html": [
              "<table>\n",
              "    <thead>\n",
              "        <tr>\n",
              "            <th>New_Date_End_of_Quarter</th>\n",
              "        </tr>\n",
              "    </thead>\n",
              "    <tbody>\n",
              "        <tr>\n",
              "            <td>2005-31-03 12:00:00 </td>\n",
              "        </tr>\n",
              "        <tr>\n",
              "            <td>1991-30-06 12:00:00 </td>\n",
              "        </tr>\n",
              "        <tr>\n",
              "            <td>1991-30-09 12:00:00 </td>\n",
              "        </tr>\n",
              "        <tr>\n",
              "            <td>1991-31-12 12:00:00 </td>\n",
              "        </tr>\n",
              "        <tr>\n",
              "            <td>1992-31-03 12:00:00 </td>\n",
              "        </tr>\n",
              "    </tbody>\n",
              "</table>"
            ],
            "text/plain": [
              "[('2005-31-03 12:00:00 ',),\n",
              " ('1991-30-06 12:00:00 ',),\n",
              " ('1991-30-09 12:00:00 ',),\n",
              " ('1991-31-12 12:00:00 ',),\n",
              " ('1992-31-03 12:00:00 ',)]"
            ]
          },
          "metadata": {},
          "execution_count": 52
        }
      ]
    },
    {
      "cell_type": "code",
      "metadata": {
        "id": "Nij-PotCmZQC",
        "colab": {
          "base_uri": "https://localhost:8080/"
        },
        "outputId": "2c91a90e-e7c4-43db-f359-c87483098338"
      },
      "source": [
        "# Example 4\n",
        "# Once we are certain that the selected data is in the datetime data type format,\n",
        "# we can then update the table as shown; Remember we learnt how to update data \n",
        "# in our table last week? :) \n",
        "# This will allow us to start using that updated table for further investigation\n",
        "# \n",
        "%%sql\n",
        "UPDATE visitors_to_kenya \n",
        "set \"Date_End_of_Quater\" = substr(\"Date_End_of_Quater\", 7, 4) \n",
        "|| \"-\" || substr(\"Date_End_of_Quater\", 4, 2) \n",
        "|| \"-\" || substr(\"Date_End_of_Quater\", 1, 2) \n",
        "|| \" \" || substr(\"Date_End_of_Quater\", 12,9)"
      ],
      "execution_count": null,
      "outputs": [
        {
          "output_type": "stream",
          "name": "stdout",
          "text": [
            " * sqlite://\n",
            "832 rows affected.\n"
          ]
        },
        {
          "output_type": "execute_result",
          "data": {
            "text/plain": [
              "[]"
            ]
          },
          "metadata": {},
          "execution_count": 53
        }
      ]
    },
    {
      "cell_type": "code",
      "metadata": {
        "id": "_V5F2sd8n6Gl",
        "colab": {
          "base_uri": "https://localhost:8080/",
          "height": 176
        },
        "outputId": "6ee1ad14-7fa7-48d1-bd08-d9c1d1b5a693"
      },
      "source": [
        "# Example 5\n",
        "# We can preview our dataset below so as to note the changes we have made to our \n",
        "# \"Date_End_of_Quater\" column which now looks super :) \n",
        "# \n",
        "%%sql\n",
        "SELECT * \n",
        "FROM visitors_to_kenya Limit 5; "
      ],
      "execution_count": null,
      "outputs": [
        {
          "output_type": "stream",
          "name": "stdout",
          "text": [
            " * sqlite://\n",
            "Done.\n"
          ]
        },
        {
          "output_type": "execute_result",
          "data": {
            "text/html": [
              "<table>\n",
              "    <thead>\n",
              "        <tr>\n",
              "            <th>Arrival_or_Departure</th>\n",
              "            <th>Date_End_of_Quater</th>\n",
              "            <th>Year_Text</th>\n",
              "            <th>No_of_Visitors_to_Kenya</th>\n",
              "            <th>Visitors_by_Purpose</th>\n",
              "            <th>Period_Quater</th>\n",
              "            <th>Results_Status</th>\n",
              "            <th>OBJECTID</th>\n",
              "        </tr>\n",
              "    </thead>\n",
              "    <tbody>\n",
              "        <tr>\n",
              "            <td>Arrivals</td>\n",
              "            <td>2005-31-03 12:00:00 </td>\n",
              "            <td>2005</td>\n",
              "            <td>264600</td>\n",
              "            <td>Visitors on Holiday</td>\n",
              "            <td>Q1</td>\n",
              "            <td>Actual</td>\n",
              "            <td>0</td>\n",
              "        </tr>\n",
              "        <tr>\n",
              "            <td>Arrivals</td>\n",
              "            <td>1991-30-06 12:00:00 </td>\n",
              "            <td>1991</td>\n",
              "            <td>149400</td>\n",
              "            <td>Visitors on Holiday</td>\n",
              "            <td>Q2</td>\n",
              "            <td>Actual</td>\n",
              "            <td>1</td>\n",
              "        </tr>\n",
              "        <tr>\n",
              "            <td>Arrivals</td>\n",
              "            <td>1991-30-09 12:00:00 </td>\n",
              "            <td>1991</td>\n",
              "            <td>215900</td>\n",
              "            <td>Visitors on Holiday</td>\n",
              "            <td>Q3</td>\n",
              "            <td>Actual</td>\n",
              "            <td>2</td>\n",
              "        </tr>\n",
              "        <tr>\n",
              "            <td>Arrivals</td>\n",
              "            <td>1991-31-12 12:00:00 </td>\n",
              "            <td>1991</td>\n",
              "            <td>158400</td>\n",
              "            <td>Visitors on Holiday</td>\n",
              "            <td>Q4</td>\n",
              "            <td>Actual</td>\n",
              "            <td>3</td>\n",
              "        </tr>\n",
              "        <tr>\n",
              "            <td>Arrivals</td>\n",
              "            <td>1992-31-03 12:00:00 </td>\n",
              "            <td>1992</td>\n",
              "            <td>155400</td>\n",
              "            <td>Visitors on Holiday</td>\n",
              "            <td>Q1</td>\n",
              "            <td>Actual</td>\n",
              "            <td>4</td>\n",
              "        </tr>\n",
              "    </tbody>\n",
              "</table>"
            ],
            "text/plain": [
              "[('Arrivals', '2005-31-03 12:00:00 ', '2005', 264600, 'Visitors on Holiday', 'Q1', 'Actual', 0),\n",
              " ('Arrivals', '1991-30-06 12:00:00 ', '1991', 149400, 'Visitors on Holiday', 'Q2', 'Actual', 1),\n",
              " ('Arrivals', '1991-30-09 12:00:00 ', '1991', 215900, 'Visitors on Holiday', 'Q3', 'Actual', 2),\n",
              " ('Arrivals', '1991-31-12 12:00:00 ', '1991', 158400, 'Visitors on Holiday', 'Q4', 'Actual', 3),\n",
              " ('Arrivals', '1992-31-03 12:00:00 ', '1992', 155400, 'Visitors on Holiday', 'Q1', 'Actual', 4)]"
            ]
          },
          "metadata": {},
          "execution_count": 54
        }
      ]
    },
    {
      "cell_type": "code",
      "metadata": {
        "id": "wGr96euaW6up"
      },
      "source": [
        "# Example 6\n",
        "# We now continue into investigating our dataset; We answer the following question;\n",
        "# Which arrivals and depatures happened before 10th June, 1991?  \n",
        "# Solution:\n",
        "#\n",
        "%%sql\n",
        "SELECT * \n",
        "FROM visitors_to_kenya \n",
        "WHERE \"Date_End_of_Quater\" < '1991-30-10';"
      ],
      "execution_count": null,
      "outputs": []
    },
    {
      "cell_type": "code",
      "metadata": {
        "id": "wz4km85zcRiD"
      },
      "source": [
        "# Example 7\n",
        "# Which arrivals and depatures happened after 30th June 2000?  \n",
        "#\n",
        "%%sql\n",
        "SELECT * \n",
        "FROM visitors_to_kenya \n",
        "WHERE \"Arrival_or_Departure\" > '2000-30-30'LIMIT 10;"
      ],
      "execution_count": null,
      "outputs": []
    },
    {
      "cell_type": "markdown",
      "metadata": {
        "id": "VIT5Iy-kcSMl"
      },
      "source": [
        "### <font color=\"green\">1.4 Challenges</font>"
      ]
    },
    {
      "cell_type": "code",
      "metadata": {
        "id": "BRWaaWEUcRal",
        "colab": {
          "base_uri": "https://localhost:8080/"
        },
        "outputId": "77532c29-f222-4235-c87d-43d3ecf764af"
      },
      "source": [
        "# Challenge\n",
        "# Using the tea_production dataset, which three dates had tea production \n",
        "# before the date with the most tea production?\n",
        "#\n",
        "%%sql\n",
        "UPDATE tea_production \n",
        "set \"Date\" = substr(\"Date\", 7, 4) \n",
        "|| \"-\" || substr(\"Date\", 4, 2) \n",
        "|| \"-\" || substr(\"Date\", 1, 2) \n",
        "|| \" \" || substr(\"Date\", 12,9)"
      ],
      "execution_count": null,
      "outputs": [
        {
          "output_type": "stream",
          "name": "stdout",
          "text": [
            " * sqlite://\n",
            "407 rows affected.\n"
          ]
        },
        {
          "output_type": "execute_result",
          "data": {
            "text/plain": [
              "[]"
            ]
          },
          "metadata": {},
          "execution_count": 68
        }
      ]
    },
    {
      "cell_type": "code",
      "source": [
        "%%sql\n",
        "SELECT * FROM tea_production LIMIT 3;"
      ],
      "metadata": {
        "colab": {
          "base_uri": "https://localhost:8080/",
          "height": 135
        },
        "id": "rONlLTCqpdg-",
        "outputId": "ef954e1e-d79a-46ed-f5c3-cf5083b5df71"
      },
      "execution_count": null,
      "outputs": [
        {
          "output_type": "stream",
          "name": "stdout",
          "text": [
            " * sqlite://\n",
            "Done.\n"
          ]
        },
        {
          "output_type": "execute_result",
          "data": {
            "text/html": [
              "<table>\n",
              "    <thead>\n",
              "        <tr>\n",
              "            <th>Activity_in_Tea_Sector</th>\n",
              "            <th>Millions_in_KGS_</th>\n",
              "            <th>Date</th>\n",
              "            <th>OBJECTID</th>\n",
              "        </tr>\n",
              "    </thead>\n",
              "    <tbody>\n",
              "        <tr>\n",
              "            <td>Production</td>\n",
              "            <td>32.8</td>\n",
              "            <td>_-Da-3--20 _Quater</td>\n",
              "            <td>0</td>\n",
              "        </tr>\n",
              "        <tr>\n",
              "            <td>Production</td>\n",
              "            <td>23.6</td>\n",
              "            <td>_-Da-3--20 _Quater</td>\n",
              "            <td>1</td>\n",
              "        </tr>\n",
              "        <tr>\n",
              "            <td>Production</td>\n",
              "            <td>15.0</td>\n",
              "            <td>_-Da-3--20 _Quater</td>\n",
              "            <td>2</td>\n",
              "        </tr>\n",
              "    </tbody>\n",
              "</table>"
            ],
            "text/plain": [
              "[('Production', 32.8, '_-Da-3--20 _Quater', 0),\n",
              " ('Production', 23.6, '_-Da-3--20 _Quater', 1),\n",
              " ('Production', 15.0, '_-Da-3--20 _Quater', 2)]"
            ]
          },
          "metadata": {},
          "execution_count": 69
        }
      ]
    },
    {
      "cell_type": "code",
      "source": [
        "%%sql\n",
        "SELECT Date FROM tea_production \n",
        "ORDER BY Millions_in_KGS_ DESC\tLIMIT 3;"
      ],
      "metadata": {
        "colab": {
          "base_uri": "https://localhost:8080/",
          "height": 135
        },
        "id": "CMpb6aOQqAyS",
        "outputId": "e2975725-a356-45bf-c2cd-1a789460a37e"
      },
      "execution_count": null,
      "outputs": [
        {
          "output_type": "stream",
          "name": "stdout",
          "text": [
            " * sqlite://\n",
            "Done.\n"
          ]
        },
        {
          "output_type": "execute_result",
          "data": {
            "text/html": [
              "<table>\n",
              "    <thead>\n",
              "        <tr>\n",
              "            <th>Date</th>\n",
              "        </tr>\n",
              "    </thead>\n",
              "    <tbody>\n",
              "        <tr>\n",
              "            <td>2014-e_-Da _Quater</td>\n",
              "        </tr>\n",
              "        <tr>\n",
              "            <td>2013-e_-Da _Quater</td>\n",
              "        </tr>\n",
              "        <tr>\n",
              "            <td>2014-e_-Da _Quater</td>\n",
              "        </tr>\n",
              "    </tbody>\n",
              "</table>"
            ],
            "text/plain": [
              "[('2014-e_-Da _Quater',), ('2013-e_-Da _Quater',), ('2014-e_-Da _Quater',)]"
            ]
          },
          "metadata": {},
          "execution_count": 67
        }
      ]
    },
    {
      "cell_type": "code",
      "source": [
        ""
      ],
      "metadata": {
        "id": "Bapa8kQvrEq6"
      },
      "execution_count": null,
      "outputs": []
    }
  ]
}